{
 "cells": [
  {
   "cell_type": "code",
   "execution_count": null,
   "id": "1a4d213c",
   "metadata": {
    "scrolled": false
   },
   "outputs": [],
   "source": [
    "import numpy as np\n",
    "import pandas as pd\n",
    "import xarray as xr\n",
    "import geopandas as gpd\n",
    "\n",
    "import matplotlib.pyplot as plt\n",
    "from matplotlib.colors import TwoSlopeNorm\n",
    "\n",
    "from shapely.geometry import Point\n",
    "from shapely.geometry import mapping"
   ]
  },
  {
   "cell_type": "code",
   "execution_count": null,
   "id": "18970261",
   "metadata": {},
   "outputs": [],
   "source": [
    "lon_min, lon_max = 5.875, 20.125\n",
    "lat_min, lat_max = 35.875, 48.125"
   ]
  },
  {
   "cell_type": "code",
   "execution_count": null,
   "id": "36fed79d",
   "metadata": {
    "scrolled": true
   },
   "outputs": [],
   "source": [
    "# Resample the precipitation data to monthly averages\n",
    "\n",
    "prec = xr.open_dataset('eobs/eobs_prec.nc').sel(latitude=slice(lat_min, lat_max), longitude=slice(lon_min, lon_max))\n",
    "monthly_prec = prec.resample(time='ME').mean()\n",
    "\n",
    "monthly_prec_df = monthly_prec.to_dataframe().reset_index()\n",
    "monthly_prec_df['geometry'] = [Point(lon, lat) for lon, lat in zip(monthly_prec_df['longitude'], monthly_prec_df['latitude'])]\n",
    "monthly_prec_gdf = gpd.GeoDataFrame(monthly_prec_df, geometry='geometry')\n",
    "\n",
    "monthly_prec_gdf = monthly_prec_gdf.set_crs(epsg=4326, inplace=True)"
   ]
  },
  {
   "cell_type": "code",
   "execution_count": null,
   "id": "0fc99ff5",
   "metadata": {},
   "outputs": [],
   "source": [
    "gdf = gpd.read_file('tweets/NUTS_RG_60M_2021_4326.shp', encoding='latin1')\n",
    "gdf_italy = gdf[gdf['CNTR_CODE'] == 'IT']\n",
    "nuts3_gdf = gdf_italy[gdf_italy['LEVL_CODE'] == 3]"
   ]
  },
  {
   "cell_type": "code",
   "execution_count": null,
   "id": "bdf4c916",
   "metadata": {},
   "outputs": [],
   "source": [
    "# Check NUTS3 shapefiles\n",
    "\n",
    "nuts3_gdf.plot()"
   ]
  },
  {
   "cell_type": "code",
   "execution_count": null,
   "id": "c23ea0cf",
   "metadata": {
    "scrolled": false
   },
   "outputs": [],
   "source": [
    "# Group the joined data by NUTS3 region and time to calculate the average monthly precipitation on the NUTS3 level\n",
    "\n",
    "monthly_prec_nuts3 = gpd.sjoin(monthly_prec_gdf, nuts3_gdf, how='left', predicate='within')\n",
    "\n",
    "agg_prec = monthly_prec_nuts3.groupby(['NUTS_ID', 'time'])['rr'].mean().unstack()\n",
    "agg_prec = agg_prec.fillna(0)"
   ]
  },
  {
   "cell_type": "code",
   "execution_count": null,
   "id": "e18d8a6b",
   "metadata": {},
   "outputs": [],
   "source": [
    "agg_prec.to_csv('eobs/nuts3_prec_1950_2023.csv')"
   ]
  },
  {
   "cell_type": "code",
   "execution_count": null,
   "id": "3cf7a764",
   "metadata": {},
   "outputs": [],
   "source": [
    "# index computation conducted in R\n",
    "# header added manually after computation"
   ]
  },
  {
   "cell_type": "code",
   "execution_count": null,
   "id": "ebcfe9f8",
   "metadata": {
    "scrolled": false
   },
   "outputs": [],
   "source": [
    "spi_data = pd.read_csv('eobs/nuts_spi3.csv')"
   ]
  },
  {
   "cell_type": "code",
   "execution_count": null,
   "id": "bbbf8598",
   "metadata": {},
   "outputs": [],
   "source": [
    "# Plot NUTS3 SPI across months\n",
    "\n",
    "def spi_plot_all(months):\n",
    "\n",
    "    fig, axs = plt.subplots(3, 4, figsize=(20, 15))\n",
    "    norm = TwoSlopeNorm(vmin=-2.5, vcenter=0, vmax=2.5)\n",
    "    \n",
    "    month_names = ['Jan', 'Feb', 'Mar', 'Apr', 'May', 'Jun', 'Jul', 'Aug', 'Sep', 'Oct', 'Nov', 'Dec']\n",
    "    \n",
    "    for i, month_index in enumerate(months):\n",
    "        row = i // 4  # Determine the row of the subplot\n",
    "        col = i % 4   # Determine the column of the subplot\n",
    "        \n",
    "        spi_target_month = spi_data.columns[month_index]\n",
    "        merged_gdf = gdf_italy.merge(spi_data[['NUTS_ID', spi_target_month]], on='NUTS_ID', how='left')\n",
    "\n",
    "        merged_gdf.plot(column=spi_target_month, cmap='RdYlGn', norm=norm, linewidth=0.8, \n",
    "                        ax=axs[row, col], edgecolor='black', legend=False)\n",
    "\n",
    "        axs[row, col].set_title(f\"{month_names[i]}\")\n",
    "        axs[row, col].axis('off')\n",
    "\n",
    "    # Add a common colorbar for all subplots\n",
    "    cbar_ax = fig.add_axes([0.92, 0.3, 0.02, 0.4])  # Position of colorbar\n",
    "    sm = plt.cm.ScalarMappable(cmap='RdYlGn', norm=norm)\n",
    "    sm._A = []\n",
    "    fig.colorbar(sm, cax=cbar_ax)\n",
    "\n",
    "    plt.tight_layout(rect=[0, 0, 0.9, 0.95])  # Adjust layout to fit the colorbar and title\n",
    "    plt.show()"
   ]
  },
  {
   "cell_type": "code",
   "execution_count": null,
   "id": "a7ee64c2",
   "metadata": {},
   "outputs": [],
   "source": [
    "months = list(range(865, 877))\n",
    "spi_plot_all(months)"
   ]
  }
 ],
 "metadata": {
  "kernelspec": {
   "display_name": "Python [conda env:twitter_data]",
   "language": "python",
   "name": "conda-env-twitter_data-py"
  },
  "language_info": {
   "codemirror_mode": {
    "name": "ipython",
    "version": 3
   },
   "file_extension": ".py",
   "mimetype": "text/x-python",
   "name": "python",
   "nbconvert_exporter": "python",
   "pygments_lexer": "ipython3",
   "version": "3.11.10"
  }
 },
 "nbformat": 4,
 "nbformat_minor": 5
}
